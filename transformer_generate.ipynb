{
 "cells": [
  {
   "cell_type": "code",
   "execution_count": null,
   "metadata": {},
   "outputs": [],
   "source": [
    "from data_processing.Datasets import get_maestro_dataset, collate_fn, get_nes_dataset\n",
    "from torch.utils.data import DataLoader\n",
    "import torch\n",
    "from model.transformer import Transformer\n",
    "from functools import partial\n",
    "import muspy\n",
    "import copy\n",
    "\n",
    "# NOTE: THIS DOWNLOADS SOMETHING, NEEDED TO GENERATE MUSIC WITH MUSPY\n",
    "muspy.download_musescore_soundfont()\n"
   ]
  },
  {
   "cell_type": "code",
   "execution_count": null,
   "metadata": {},
   "outputs": [],
   "source": [
    "%load_ext autoreload\n",
    "%autoreload 2"
   ]
  },
  {
   "cell_type": "code",
   "execution_count": null,
   "metadata": {},
   "outputs": [],
   "source": [
    "# data hyperparams\n",
    "SEQ_LEN = 1500\n",
    "BATCH_SIZE = 32\n",
    "EVAL_BATCH_SIZE = 10\n",
    "\n",
    "# model hyperparams\n",
    "NUM_TOKENS = 388\n",
    "DIM_MODEL = 512\n",
    "NUM_HEADS = 2\n",
    "NUM_ENCODER_LAYERS = 3\n",
    "NUM_DECODER_LAYERS = 3\n",
    "DROPOUT_P = 0.1\n",
    "\n",
    "REPRESENTATION = \"event\"  # set to either 'event' or 'pitch'\n"
   ]
  },
  {
   "cell_type": "code",
   "execution_count": null,
   "metadata": {},
   "outputs": [],
   "source": [
    "# load device\n",
    "device = torch.device(\"cuda\" if torch.cuda.is_available() else \"cpu\")\n"
   ]
  },
  {
   "cell_type": "code",
   "execution_count": null,
   "metadata": {},
   "outputs": [],
   "source": [
    "train_data, test_data = get_maestro_dataset(\n",
    "    \"data/maestro\", representation=REPRESENTATION\n",
    ")\n"
   ]
  },
  {
   "cell_type": "code",
   "execution_count": null,
   "metadata": {},
   "outputs": [],
   "source": [
    "# Build dataloaders\n",
    "train_dataloader = DataLoader(\n",
    "    dataset=train_data,\n",
    "    batch_size=BATCH_SIZE,\n",
    "    collate_fn=partial(collate_fn, seq_len=SEQ_LEN, device=device),\n",
    "    shuffle=False,\n",
    ")\n",
    "\n",
    "val_dataloader = DataLoader(\n",
    "    dataset=test_data,\n",
    "    batch_size=EVAL_BATCH_SIZE,\n",
    "    collate_fn=partial(collate_fn, seq_len=SEQ_LEN, device=device),\n",
    "    shuffle=False,\n",
    ")\n"
   ]
  },
  {
   "cell_type": "code",
   "execution_count": null,
   "metadata": {},
   "outputs": [],
   "source": [
    "# create model, optim, criterion\n",
    "model = Transformer(\n",
    "    num_tokens=NUM_TOKENS,\n",
    "    dim_model=DIM_MODEL,\n",
    "    num_heads=NUM_HEADS,\n",
    "    num_encoder_layers=NUM_ENCODER_LAYERS,\n",
    "    num_decoder_layers=NUM_DECODER_LAYERS,\n",
    "    dropout_p=DROPOUT_P,\n",
    ").to(device)\n"
   ]
  },
  {
   "cell_type": "markdown",
   "metadata": {},
   "source": [
    "## Prepare Primer\n",
    "\n",
    "This cell loads a small sample from the validation dataset that is passed into the transformer to be used as a baseline for generating more music.\n"
   ]
  },
  {
   "cell_type": "code",
   "execution_count": null,
   "metadata": {},
   "outputs": [],
   "source": [
    "# prepare primer\n",
    "primer = torch.tensor(test_data.__getitem__(10), dtype=torch.long)\n",
    "\n",
    "labels = copy.deepcopy(primer)\n",
    "\n",
    "# best so far has been item 10, with primer of 200 -> 225\n",
    "primer = primer[200:250].to(device)\n",
    "print(primer.shape)\n",
    "labels = labels[200:250].to(device)\n",
    "print(labels.shape)\n"
   ]
  },
  {
   "cell_type": "code",
   "execution_count": null,
   "metadata": {},
   "outputs": [],
   "source": [
    "# load saved model params\n",
    "model.load_state_dict(torch.load(\"./results/transformer/model_params/model-event-may-11.pth\", map_location=torch.device(device)))\n",
    "model.to(device)\n",
    "\n",
    "# set to test\n",
    "model.eval()\n",
    "\n",
    "# pass in primer\n",
    "with torch.no_grad():\n",
    "    data = model.generate(primer.to(device), device, labels.to(device), target_seq_length=800)\n",
    "\n",
    "    # decode the returned info\n",
    "    data = data.to('cpu').clone().detach().numpy()\n",
    "\n",
    "    music = muspy.from_event_representation(data)\n",
    "\n",
    "    muspy.write_audio(\"./results/transformer/music/event-15-epoch.wav\", music, \"wav\")\n"
   ]
  },
  {
   "cell_type": "markdown",
   "metadata": {},
   "source": [
    "## Visualize the music\n"
   ]
  },
  {
   "cell_type": "code",
   "execution_count": null,
   "metadata": {},
   "outputs": [],
   "source": [
    "muspy.show_pianoroll(music)\n"
   ]
  }
 ],
 "metadata": {
  "interpreter": {
   "hash": "94f4b4549c83f05dde00f53bd3bd913a638144854d81a9c8d442170225184b53"
  },
  "kernelspec": {
   "display_name": "Python 3.10.4 ('music_transformer')",
   "language": "python",
   "name": "python3"
  },
  "language_info": {
   "codemirror_mode": {
    "name": "ipython",
    "version": 3
   },
   "file_extension": ".py",
   "mimetype": "text/x-python",
   "name": "python",
   "nbconvert_exporter": "python",
   "pygments_lexer": "ipython3",
   "version": "3.10.4"
  },
  "orig_nbformat": 4
 },
 "nbformat": 4,
 "nbformat_minor": 2
}
