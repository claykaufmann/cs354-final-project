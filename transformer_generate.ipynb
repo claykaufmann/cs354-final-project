{
 "cells": [
  {
   "cell_type": "code",
   "execution_count": 1,
   "metadata": {},
   "outputs": [],
   "source": [
    "from data_processing.Datasets import get_maestro_dataset, collate_fn\n",
    "from torch.utils.data import DataLoader\n",
    "import torch\n",
    "from model.transformer import Transformer\n",
    "from tqdm import tqdm\n",
    "from time import sleep\n",
    "from functools import partial\n"
   ]
  },
  {
   "cell_type": "code",
   "execution_count": 2,
   "metadata": {},
   "outputs": [],
   "source": [
    "%load_ext autoreload\n",
    "%autoreload 2"
   ]
  },
  {
   "cell_type": "code",
   "execution_count": 3,
   "metadata": {},
   "outputs": [],
   "source": [
    "# training hyperparams\n",
    "EPOCHS = 5\n",
    "LEARNING_RATE = 0.01\n",
    "\n",
    "# data hyperparams\n",
    "SEQ_LEN = 700\n",
    "BATCH_SIZE = 32\n",
    "EVAL_BATCH_SIZE = 10\n",
    "\n",
    "# model hyperparams\n",
    "NUM_TOKENS = 388\n",
    "DIM_MODEL = 512\n",
    "NUM_HEADS = 2\n",
    "NUM_ENCODER_LAYERS = 3\n",
    "NUM_DECODER_LAYERS = 3\n",
    "DROPOUT_P = 0.1\n"
   ]
  },
  {
   "cell_type": "code",
   "execution_count": 4,
   "metadata": {},
   "outputs": [],
   "source": [
    "# load device\n",
    "device = torch.device(\"cuda\" if torch.cuda.is_available() else \"cpu\")\n"
   ]
  },
  {
   "cell_type": "code",
   "execution_count": 5,
   "metadata": {},
   "outputs": [
    {
     "name": "stdout",
     "output_type": "stream",
     "text": [
      "Skip downloading as the `.muspy.success` file is found.\n",
      "Skip extracting as the `.muspy.success` file is found.\n",
      "Skip conversion as the `.muspy.success` file is found.\n"
     ]
    }
   ],
   "source": [
    "train_data, test_data = get_maestro_dataset(\"data/maestro\", representation=\"pitch\")\n"
   ]
  },
  {
   "cell_type": "code",
   "execution_count": 6,
   "metadata": {},
   "outputs": [],
   "source": [
    "# Build dataloaders\n",
    "train_dataloader = DataLoader(\n",
    "    dataset=train_data,\n",
    "    batch_size=BATCH_SIZE,\n",
    "    collate_fn=partial(collate_fn, seq_len=SEQ_LEN, device=device),\n",
    "    shuffle=False,\n",
    ")\n",
    "\n",
    "val_dataloader = DataLoader(\n",
    "    dataset=test_data,\n",
    "    batch_size=EVAL_BATCH_SIZE,\n",
    "    collate_fn=partial(collate_fn, seq_len=SEQ_LEN, device=device),\n",
    "    shuffle=False,\n",
    ")\n"
   ]
  },
  {
   "cell_type": "code",
   "execution_count": 7,
   "metadata": {},
   "outputs": [],
   "source": [
    "# create model, optim, criterion\n",
    "model = Transformer(\n",
    "    num_tokens=NUM_TOKENS,\n",
    "    dim_model=DIM_MODEL,\n",
    "    num_heads=NUM_HEADS,\n",
    "    num_encoder_layers=NUM_ENCODER_LAYERS,\n",
    "    num_decoder_layers=NUM_DECODER_LAYERS,\n",
    "    dropout_p=DROPOUT_P,\n",
    ").to(device)\n"
   ]
  },
  {
   "cell_type": "code",
   "execution_count": 8,
   "metadata": {},
   "outputs": [
    {
     "name": "stderr",
     "output_type": "stream",
     "text": [
      "/var/folders/3w/lhkpgfc505n81_2vs8svxfpr0000gn/T/ipykernel_75549/3703261367.py:14: UserWarning: To copy construct from a tensor, it is recommended to use sourceTensor.clone().detach() or sourceTensor.clone().detach().requires_grad_(True), rather than torch.tensor(sourceTensor).\n",
      "  primer = torch.tensor(primer[:1], dtype=torch.long)\n"
     ]
    },
    {
     "name": "stdout",
     "output_type": "stream",
     "text": [
      "Generating Sequence of length 1024\n",
      "torch.Size([1, 1])\n"
     ]
    },
    {
     "ename": "ValueError",
     "evalue": "only one element tensors can be converted to Python scalars",
     "output_type": "error",
     "traceback": [
      "\u001b[0;31m---------------------------------------------------------------------------\u001b[0m",
      "\u001b[0;31mValueError\u001b[0m                                Traceback (most recent call last)",
      "\u001b[1;32m/Users/claykaufmann/Projects/cs354-final-project/transformer_generate.ipynb Cell 8'\u001b[0m in \u001b[0;36m<cell line: 8>\u001b[0;34m()\u001b[0m\n\u001b[1;32m     <a href='vscode-notebook-cell:/Users/claykaufmann/Projects/cs354-final-project/transformer_generate.ipynb#ch0000007?line=13'>14</a>\u001b[0m primer \u001b[39m=\u001b[39m torch\u001b[39m.\u001b[39mtensor(primer[:\u001b[39m1\u001b[39m], dtype\u001b[39m=\u001b[39mtorch\u001b[39m.\u001b[39mlong)\n\u001b[1;32m     <a href='vscode-notebook-cell:/Users/claykaufmann/Projects/cs354-final-project/transformer_generate.ipynb#ch0000007?line=14'>15</a>\u001b[0m primer \u001b[39m=\u001b[39m primer\u001b[39m.\u001b[39mpermute(\u001b[39m1\u001b[39m, \u001b[39m0\u001b[39m)\n\u001b[0;32m---> <a href='vscode-notebook-cell:/Users/claykaufmann/Projects/cs354-final-project/transformer_generate.ipynb#ch0000007?line=16'>17</a>\u001b[0m data \u001b[39m=\u001b[39m model\u001b[39m.\u001b[39;49mgenerate(primer, device)\n",
      "File \u001b[0;32m~/Projects/cs354-final-project/model/transformer.py:200\u001b[0m, in \u001b[0;36mTransformer.generate\u001b[0;34m(self, primer, device, target_seq_length, beam, beam_chance)\u001b[0m\n\u001b[1;32m    <a href='file:///Users/claykaufmann/Projects/cs354-final-project/model/transformer.py?line=195'>196</a>\u001b[0m tgt_mask \u001b[39m=\u001b[39m \u001b[39mself\u001b[39m\u001b[39m.\u001b[39mget_tgt_mask(sequence_length)\u001b[39m.\u001b[39mto(device)\n\u001b[1;32m    <a href='file:///Users/claykaufmann/Projects/cs354-final-project/model/transformer.py?line=197'>198</a>\u001b[0m next_item \u001b[39m=\u001b[39m \u001b[39mself\u001b[39m(primer, y_input, tgt_mask)\u001b[39m.\u001b[39msqueeze()\u001b[39m.\u001b[39msqueeze()\n\u001b[0;32m--> <a href='file:///Users/claykaufmann/Projects/cs354-final-project/model/transformer.py?line=199'>200</a>\u001b[0m next_item \u001b[39m=\u001b[39m torch\u001b[39m.\u001b[39;49mtensor([[next_item]], device\u001b[39m=\u001b[39;49mdevice)\n\u001b[1;32m    <a href='file:///Users/claykaufmann/Projects/cs354-final-project/model/transformer.py?line=201'>202</a>\u001b[0m y_input \u001b[39m=\u001b[39m torch\u001b[39m.\u001b[39mcat((y_input, next_item), dim\u001b[39m=\u001b[39m\u001b[39m1\u001b[39m)\n\u001b[1;32m    <a href='file:///Users/claykaufmann/Projects/cs354-final-project/model/transformer.py?line=203'>204</a>\u001b[0m y_input \u001b[39m=\u001b[39m y_input\u001b[39m.\u001b[39mpermute(\u001b[39m1\u001b[39m, \u001b[39m0\u001b[39m)\n",
      "\u001b[0;31mValueError\u001b[0m: only one element tensors can be converted to Python scalars"
     ]
    }
   ],
   "source": [
    "# load saved model params\n",
    "model.load_state_dict(\n",
    "    torch.load(\"./results/transformer/model_params/transformer_music.pth\")\n",
    ")\n",
    "\n",
    "# set to test\n",
    "model.eval()\n",
    "\n",
    "\n",
    "# get some data, set a sequence length\n",
    "with torch.no_grad():\n",
    "    # get first index from val\n",
    "    batch = next(iter(val_dataloader))\n",
    "\n",
    "    primer = batch[0]\n",
    "    primer = primer.permute(1, 0)\n",
    "    primer = torch.tensor(primer[:1], dtype=torch.long)\n",
    "    primer = primer.permute(1, 0)\n",
    "\n",
    "    data = model.generate(primer, device)\n",
    "\n",
    "# pass in the input, as well as the length to generate??\n",
    "\n",
    "# decode the returned info\n",
    "\n",
    "# use muspy to turn data into mp3\n",
    "# convert the output into a music object with muspy.from_event_representation()\n",
    "\n",
    "# call muspy.write_audio(), passing in music file, and format, to format into audio file\n"
   ]
  }
 ],
 "metadata": {
  "interpreter": {
   "hash": "94f4b4549c83f05dde00f53bd3bd913a638144854d81a9c8d442170225184b53"
  },
  "kernelspec": {
   "display_name": "Python 3.10.4 ('music_transformer')",
   "language": "python",
   "name": "python3"
  },
  "language_info": {
   "codemirror_mode": {
    "name": "ipython",
    "version": 3
   },
   "file_extension": ".py",
   "mimetype": "text/x-python",
   "name": "python",
   "nbconvert_exporter": "python",
   "pygments_lexer": "ipython3",
   "version": "3.10.4"
  },
  "orig_nbformat": 4
 },
 "nbformat": 4,
 "nbformat_minor": 2
}
