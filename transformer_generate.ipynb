{
 "cells": [
  {
   "cell_type": "code",
   "execution_count": 1,
   "metadata": {},
   "outputs": [
    {
     "name": "stdout",
     "output_type": "stream",
     "text": [
      "Skip downloading as the MuseScore General soundfont is found.\n"
     ]
    }
   ],
   "source": [
    "from data_processing.Datasets import get_maestro_dataset, collate_fn\n",
    "from torch.utils.data import DataLoader\n",
    "import torch\n",
    "from model.transformer import Transformer\n",
    "from functools import partial\n",
    "import muspy\n",
    "import copy\n",
    "\n",
    "# NOTE: THIS DOWNLOADS SOMETHING, NEEDED TO GENERATE MUSIC WITH MUSPY\n",
    "muspy.download_musescore_soundfont()\n"
   ]
  },
  {
   "cell_type": "code",
   "execution_count": 2,
   "metadata": {},
   "outputs": [],
   "source": [
    "%load_ext autoreload\n",
    "%autoreload 2"
   ]
  },
  {
   "cell_type": "code",
   "execution_count": 3,
   "metadata": {},
   "outputs": [],
   "source": [
    "# training hyperparams\n",
    "EPOCHS = 5\n",
    "LEARNING_RATE = 0.01\n",
    "\n",
    "# data hyperparams\n",
    "SEQ_LEN = 700\n",
    "BATCH_SIZE = 32\n",
    "EVAL_BATCH_SIZE = 10\n",
    "\n",
    "# model hyperparams\n",
    "NUM_TOKENS = 130\n",
    "DIM_MODEL = 512\n",
    "NUM_HEADS = 2\n",
    "NUM_ENCODER_LAYERS = 3\n",
    "NUM_DECODER_LAYERS = 3\n",
    "DROPOUT_P = 0.1\n",
    "\n",
    "REPRESENTATION = \"pitch\"  # set to either 'event' or 'pitch'\n"
   ]
  },
  {
   "cell_type": "code",
   "execution_count": 4,
   "metadata": {},
   "outputs": [],
   "source": [
    "# load device\n",
    "device = torch.device(\"cuda\" if torch.cuda.is_available() else \"cpu\")\n"
   ]
  },
  {
   "cell_type": "code",
   "execution_count": 5,
   "metadata": {},
   "outputs": [
    {
     "name": "stdout",
     "output_type": "stream",
     "text": [
      "Skip downloading as the `.muspy.success` file is found.\n",
      "Skip extracting as the `.muspy.success` file is found.\n",
      "Skip conversion as the `.muspy.success` file is found.\n"
     ]
    }
   ],
   "source": [
    "train_data, test_data = get_maestro_dataset(\n",
    "    \"data/maestro\", representation=REPRESENTATION\n",
    ")\n"
   ]
  },
  {
   "cell_type": "code",
   "execution_count": 6,
   "metadata": {},
   "outputs": [],
   "source": [
    "# Build dataloaders\n",
    "train_dataloader = DataLoader(\n",
    "    dataset=train_data,\n",
    "    batch_size=BATCH_SIZE,\n",
    "    collate_fn=partial(collate_fn, seq_len=SEQ_LEN, device=device),\n",
    "    shuffle=False,\n",
    ")\n",
    "\n",
    "val_dataloader = DataLoader(\n",
    "    dataset=test_data,\n",
    "    batch_size=EVAL_BATCH_SIZE,\n",
    "    collate_fn=partial(collate_fn, seq_len=SEQ_LEN, device=device),\n",
    "    shuffle=False,\n",
    ")\n"
   ]
  },
  {
   "cell_type": "code",
   "execution_count": 7,
   "metadata": {},
   "outputs": [],
   "source": [
    "# create model, optim, criterion\n",
    "model = Transformer(\n",
    "    num_tokens=NUM_TOKENS,\n",
    "    dim_model=DIM_MODEL,\n",
    "    num_heads=NUM_HEADS,\n",
    "    num_encoder_layers=NUM_ENCODER_LAYERS,\n",
    "    num_decoder_layers=NUM_DECODER_LAYERS,\n",
    "    dropout_p=DROPOUT_P,\n",
    ").to(device)\n"
   ]
  },
  {
   "cell_type": "markdown",
   "metadata": {},
   "source": [
    "## Prepare Primer\n",
    "\n",
    "This cell loads a small sample from the validation dataset that is passed into the transformer to be used as a baseline for generating more music.\n"
   ]
  },
  {
   "cell_type": "code",
   "execution_count": 11,
   "metadata": {},
   "outputs": [
    {
     "name": "stdout",
     "output_type": "stream",
     "text": [
      "torch.Size([110050, 1])\n",
      "torch.Size([50, 1])\n",
      "torch.Size([50, 1])\n"
     ]
    },
    {
     "data": {
      "text/plain": [
       "[<AxesSubplot:xlabel='time (beat)', ylabel='\\n\\npitch'>]"
      ]
     },
     "execution_count": 11,
     "metadata": {},
     "output_type": "execute_result"
    },
    {
     "data": {
      "image/png": "[encoded data removed]",
      "text/plain": [
       "<Figure size 432x288 with 1 Axes>"
      ]
     },
     "metadata": {
      "image/png": {
       "height": 260,
       "width": 405
      },
      "needs_background": "light"
     },
     "output_type": "display_data"
    }
   ],
   "source": [
    "# prepare primer\n",
    "primer = torch.tensor(test_data.__getitem__(10), dtype=torch.long)\n",
    "\n",
    "labels = copy.deepcopy(primer)\n",
    "\n",
    "print(primer.shape)\n",
    "\n",
    "primer = primer[100:150]\n",
    "print(primer.shape)\n",
    "labels = labels[100:150]\n",
    "print(labels.shape)\n",
    "\n",
    "# display primer pianoroll\n",
    "primer_arr = primer.clone().detach().numpy()\n",
    "\n",
    "if REPRESENTATION == \"pitch\":\n",
    "    music_primer = muspy.from_pitch_representation(primer_arr)\n",
    "elif REPRESENTATION == \"event\":\n",
    "    music_primer = muspy.from_event_representation(primer_arr)\n",
    "\n",
    "muspy.show_pianoroll(music_primer)\n"
   ]
  },
  {
   "cell_type": "code",
   "execution_count": null,
   "metadata": {},
   "outputs": [],
   "source": [
    "# load saved model params\n",
    "model.load_state_dict(torch.load(\"./results/transformer/model_params/model-pitch.pth\"))\n",
    "\n",
    "# set to test\n",
    "model.eval()\n",
    "\n",
    "# pass in primer\n",
    "with torch.no_grad():\n",
    "    data = model.generate(primer, device, labels, target_seq_length=1000)\n",
    "\n",
    "# decode the returned info\n",
    "data = data.detach().numpy()\n",
    "\n",
    "if REPRESENTATION == \"pitch\":\n",
    "    music = muspy.from_pitch_representation(data)\n",
    "elif REPRESENTATION == \"event\":\n",
    "    music = muspy.from_event_representation(data)\n",
    "else:\n",
    "    print(\n",
    "        \"Please use either event or pitch based representation, depending on what the model was trained on.\"\n",
    "    )\n",
    "    print(\"If you don't know what either of those are, set REPRESENTATION='event'\")\n",
    "\n",
    "muspy.write_audio(\"./results/transformer/music/test-pitch-short.wav\", music, \"wav\")\n"
   ]
  },
  {
   "cell_type": "markdown",
   "metadata": {},
   "source": [
    "## Visualize the music\n"
   ]
  },
  {
   "cell_type": "code",
   "execution_count": null,
   "metadata": {},
   "outputs": [],
   "source": [
    "muspy.show_pianoroll(music)\n"
   ]
  }
 ],
 "metadata": {
  "interpreter": {
   "hash": "94f4b4549c83f05dde00f53bd3bd913a638144854d81a9c8d442170225184b53"
  },
  "kernelspec": {
   "display_name": "Python 3.10.4 ('music_transformer')",
   "language": "python",
   "name": "python3"
  },
  "language_info": {
   "codemirror_mode": {
    "name": "ipython",
    "version": 3
   },
   "file_extension": ".py",
   "mimetype": "text/x-python",
   "name": "python",
   "nbconvert_exporter": "python",
   "pygments_lexer": "ipython3",
   "version": "3.10.4"
  },
  "orig_nbformat": 4
 },
 "nbformat": 4,
 "nbformat_minor": 2
}
