{
 "cells": [
  {
   "cell_type": "code",
   "execution_count": 82,
   "metadata": {},
   "outputs": [],
   "source": [
    "from data_processing.Datasets import get_maestro_dataset, collate_fn\n",
    "from torch.utils.data import DataLoader\n",
    "import torch\n",
    "from model.transformer import Transformer\n",
    "from tqdm import tqdm\n",
    "from time import sleep\n",
    "from functools import partial\n"
   ]
  },
  {
   "cell_type": "code",
   "execution_count": 83,
   "metadata": {},
   "outputs": [
    {
     "name": "stdout",
     "output_type": "stream",
     "text": [
      "The autoreload extension is already loaded. To reload it, use:\n",
      "  %reload_ext autoreload\n"
     ]
    }
   ],
   "source": [
    "%load_ext autoreload\n",
    "%autoreload 2"
   ]
  },
  {
   "cell_type": "code",
   "execution_count": 84,
   "metadata": {},
   "outputs": [],
   "source": [
    "# training hyperparams\n",
    "EPOCHS = 5\n",
    "LEARNING_RATE = 0.01\n",
    "\n",
    "# data hyperparams\n",
    "SEQ_LEN = 700\n",
    "BATCH_SIZE = 32\n",
    "EVAL_BATCH_SIZE = 10\n",
    "\n",
    "# model hyperparams\n",
    "NUM_TOKENS = 388\n",
    "DIM_MODEL = 512\n",
    "NUM_HEADS = 2\n",
    "NUM_ENCODER_LAYERS = 3\n",
    "NUM_DECODER_LAYERS = 3\n",
    "DROPOUT_P = 0.1\n"
   ]
  },
  {
   "cell_type": "code",
   "execution_count": 85,
   "metadata": {},
   "outputs": [],
   "source": [
    "# load device\n",
    "device = torch.device(\"cuda\" if torch.cuda.is_available() else \"cpu\")\n"
   ]
  },
  {
   "cell_type": "code",
   "execution_count": 86,
   "metadata": {},
   "outputs": [
    {
     "name": "stdout",
     "output_type": "stream",
     "text": [
      "Skip downloading as the `.muspy.success` file is found.\n",
      "Skip extracting as the `.muspy.success` file is found.\n",
      "Skip conversion as the `.muspy.success` file is found.\n"
     ]
    }
   ],
   "source": [
    "train_data, test_data = get_maestro_dataset(\"data/maestro\", representation=\"pitch\")\n"
   ]
  },
  {
   "cell_type": "code",
   "execution_count": 87,
   "metadata": {},
   "outputs": [],
   "source": [
    "# Build dataloaders\n",
    "train_dataloader = DataLoader(\n",
    "    dataset=train_data,\n",
    "    batch_size=BATCH_SIZE,\n",
    "    collate_fn=partial(collate_fn, seq_len=SEQ_LEN, device=device),\n",
    "    shuffle=False,\n",
    ")\n",
    "\n",
    "val_dataloader = DataLoader(\n",
    "    dataset=test_data,\n",
    "    batch_size=EVAL_BATCH_SIZE,\n",
    "    collate_fn=partial(collate_fn, seq_len=SEQ_LEN, device=device),\n",
    "    shuffle=False,\n",
    ")\n"
   ]
  },
  {
   "cell_type": "code",
   "execution_count": 88,
   "metadata": {},
   "outputs": [],
   "source": [
    "# create model, optim, criterion\n",
    "model = Transformer(\n",
    "    num_tokens=NUM_TOKENS,\n",
    "    dim_model=DIM_MODEL,\n",
    "    num_heads=NUM_HEADS,\n",
    "    num_encoder_layers=NUM_ENCODER_LAYERS,\n",
    "    num_decoder_layers=NUM_DECODER_LAYERS,\n",
    "    dropout_p=DROPOUT_P,\n",
    ").to(device)\n"
   ]
  },
  {
   "cell_type": "code",
   "execution_count": 89,
   "metadata": {},
   "outputs": [
    {
     "name": "stderr",
     "output_type": "stream",
     "text": [
      "/var/folders/3w/lhkpgfc505n81_2vs8svxfpr0000gn/T/ipykernel_75549/2870899523.py:21: UserWarning: To copy construct from a tensor, it is recommended to use sourceTensor.clone().detach() or sourceTensor.clone().detach().requires_grad_(True), rather than torch.tensor(sourceTensor).\n",
      "  primer = torch.tensor(primer[:1], dtype=torch.long)\n",
      "/var/folders/3w/lhkpgfc505n81_2vs8svxfpr0000gn/T/ipykernel_75549/2870899523.py:22: UserWarning: To copy construct from a tensor, it is recommended to use sourceTensor.clone().detach() or sourceTensor.clone().detach().requires_grad_(True), rather than torch.tensor(sourceTensor).\n",
      "  labels = torch.tensor(labels[:1], dtype=torch.long)\n"
     ]
    },
    {
     "name": "stdout",
     "output_type": "stream",
     "text": [
      "torch.Size([50, 1])\n",
      "Generating Sequence of length 1024\n"
     ]
    },
    {
     "ename": "KeyboardInterrupt",
     "evalue": "",
     "output_type": "error",
     "traceback": [
      "\u001b[0;31m---------------------------------------------------------------------------\u001b[0m",
      "\u001b[0;31mKeyboardInterrupt\u001b[0m                         Traceback (most recent call last)",
      "\u001b[1;32m/Users/claykaufmann/Projects/cs354-final-project/transformer_generate.ipynb Cell 8'\u001b[0m in \u001b[0;36m<cell line: 11>\u001b[0;34m()\u001b[0m\n\u001b[1;32m     <a href='vscode-notebook-cell:/Users/claykaufmann/Projects/cs354-final-project/transformer_generate.ipynb#ch0000007?line=26'>27</a>\u001b[0m labels \u001b[39m=\u001b[39m primer[:\u001b[39m50\u001b[39m]\n\u001b[1;32m     <a href='vscode-notebook-cell:/Users/claykaufmann/Projects/cs354-final-project/transformer_generate.ipynb#ch0000007?line=28'>29</a>\u001b[0m \u001b[39mprint\u001b[39m(primer\u001b[39m.\u001b[39mshape)\n\u001b[0;32m---> <a href='vscode-notebook-cell:/Users/claykaufmann/Projects/cs354-final-project/transformer_generate.ipynb#ch0000007?line=30'>31</a>\u001b[0m data \u001b[39m=\u001b[39m model\u001b[39m.\u001b[39;49mgenerate(primer, device, labels)\n",
      "File \u001b[0;32m~/Projects/cs354-final-project/model/transformer.py:195\u001b[0m, in \u001b[0;36mTransformer.generate\u001b[0;34m(self, primer, device, labels, target_seq_length, beam, beam_chance)\u001b[0m\n\u001b[1;32m    <a href='file:///Users/claykaufmann/Projects/cs354-final-project/model/transformer.py?line=189'>190</a>\u001b[0m outputs = []\n\u001b[1;32m    <a href='file:///Users/claykaufmann/Projects/cs354-final-project/model/transformer.py?line=191'>192</a>\u001b[0m num_tokens = len(primer[0])\n\u001b[1;32m    <a href='file:///Users/claykaufmann/Projects/cs354-final-project/model/transformer.py?line=193'>194</a>\u001b[0m for _ in range(target_seq_length):\n\u001b[0;32m--> <a href='file:///Users/claykaufmann/Projects/cs354-final-project/model/transformer.py?line=194'>195</a>\u001b[0m     # generate 1024 targets\n\u001b[1;32m    <a href='file:///Users/claykaufmann/Projects/cs354-final-project/model/transformer.py?line=195'>196</a>\u001b[0m     tgt_mask = self.get_tgt_mask(labels.size(0)).to(device)\n\u001b[1;32m    <a href='file:///Users/claykaufmann/Projects/cs354-final-project/model/transformer.py?line=197'>198</a>\u001b[0m     pred = self(primer, labels, tgt_mask)\n",
      "File \u001b[0;32m/opt/homebrew/Caskroom/miniforge/base/envs/music_transformer/lib/python3.10/site-packages/torch/nn/modules/module.py:1110\u001b[0m, in \u001b[0;36mModule._call_impl\u001b[0;34m(self, *input, **kwargs)\u001b[0m\n\u001b[1;32m   <a href='file:///opt/homebrew/Caskroom/miniforge/base/envs/music_transformer/lib/python3.10/site-packages/torch/nn/modules/module.py?line=1105'>1106</a>\u001b[0m \u001b[39m# If we don't have any hooks, we want to skip the rest of the logic in\u001b[39;00m\n\u001b[1;32m   <a href='file:///opt/homebrew/Caskroom/miniforge/base/envs/music_transformer/lib/python3.10/site-packages/torch/nn/modules/module.py?line=1106'>1107</a>\u001b[0m \u001b[39m# this function, and just call forward.\u001b[39;00m\n\u001b[1;32m   <a href='file:///opt/homebrew/Caskroom/miniforge/base/envs/music_transformer/lib/python3.10/site-packages/torch/nn/modules/module.py?line=1107'>1108</a>\u001b[0m \u001b[39mif\u001b[39;00m \u001b[39mnot\u001b[39;00m (\u001b[39mself\u001b[39m\u001b[39m.\u001b[39m_backward_hooks \u001b[39mor\u001b[39;00m \u001b[39mself\u001b[39m\u001b[39m.\u001b[39m_forward_hooks \u001b[39mor\u001b[39;00m \u001b[39mself\u001b[39m\u001b[39m.\u001b[39m_forward_pre_hooks \u001b[39mor\u001b[39;00m _global_backward_hooks\n\u001b[1;32m   <a href='file:///opt/homebrew/Caskroom/miniforge/base/envs/music_transformer/lib/python3.10/site-packages/torch/nn/modules/module.py?line=1108'>1109</a>\u001b[0m         \u001b[39mor\u001b[39;00m _global_forward_hooks \u001b[39mor\u001b[39;00m _global_forward_pre_hooks):\n\u001b[0;32m-> <a href='file:///opt/homebrew/Caskroom/miniforge/base/envs/music_transformer/lib/python3.10/site-packages/torch/nn/modules/module.py?line=1109'>1110</a>\u001b[0m     \u001b[39mreturn\u001b[39;00m forward_call(\u001b[39m*\u001b[39;49m\u001b[39minput\u001b[39;49m, \u001b[39m*\u001b[39;49m\u001b[39m*\u001b[39;49mkwargs)\n\u001b[1;32m   <a href='file:///opt/homebrew/Caskroom/miniforge/base/envs/music_transformer/lib/python3.10/site-packages/torch/nn/modules/module.py?line=1110'>1111</a>\u001b[0m \u001b[39m# Do not call functions when jit is used\u001b[39;00m\n\u001b[1;32m   <a href='file:///opt/homebrew/Caskroom/miniforge/base/envs/music_transformer/lib/python3.10/site-packages/torch/nn/modules/module.py?line=1111'>1112</a>\u001b[0m full_backward_hooks, non_full_backward_hooks \u001b[39m=\u001b[39m [], []\n",
      "File \u001b[0;32m~/Projects/cs354-final-project/model/transformer.py:151\u001b[0m, in \u001b[0;36mTransformer.forward\u001b[0;34m(self, src, tgt, tgt_mask, src_pad_mask, tgt_pad_mask)\u001b[0m\n\u001b[1;32m    <a href='file:///Users/claykaufmann/Projects/cs354-final-project/model/transformer.py?line=146'>147</a>\u001b[0m tgt \u001b[39m=\u001b[39m tgt\u001b[39m.\u001b[39mpermute(\u001b[39m1\u001b[39m, \u001b[39m0\u001b[39m, \u001b[39m2\u001b[39m)\n\u001b[1;32m    <a href='file:///Users/claykaufmann/Projects/cs354-final-project/model/transformer.py?line=148'>149</a>\u001b[0m \u001b[39m# pass src and tgt through the transformer\u001b[39;00m\n\u001b[1;32m    <a href='file:///Users/claykaufmann/Projects/cs354-final-project/model/transformer.py?line=149'>150</a>\u001b[0m \u001b[39m# Out size is (sequence length, batch_size, num_tokens)\u001b[39;00m\n\u001b[0;32m--> <a href='file:///Users/claykaufmann/Projects/cs354-final-project/model/transformer.py?line=150'>151</a>\u001b[0m transformer_out \u001b[39m=\u001b[39m \u001b[39mself\u001b[39;49m\u001b[39m.\u001b[39;49mtransformer(\n\u001b[1;32m    <a href='file:///Users/claykaufmann/Projects/cs354-final-project/model/transformer.py?line=151'>152</a>\u001b[0m     src,\n\u001b[1;32m    <a href='file:///Users/claykaufmann/Projects/cs354-final-project/model/transformer.py?line=152'>153</a>\u001b[0m     tgt,\n\u001b[1;32m    <a href='file:///Users/claykaufmann/Projects/cs354-final-project/model/transformer.py?line=153'>154</a>\u001b[0m     tgt_mask\u001b[39m=\u001b[39;49mtgt_mask,\n\u001b[1;32m    <a href='file:///Users/claykaufmann/Projects/cs354-final-project/model/transformer.py?line=154'>155</a>\u001b[0m     src_key_padding_mask\u001b[39m=\u001b[39;49msrc_pad_mask,\n\u001b[1;32m    <a href='file:///Users/claykaufmann/Projects/cs354-final-project/model/transformer.py?line=155'>156</a>\u001b[0m     tgt_key_padding_mask\u001b[39m=\u001b[39;49mtgt_pad_mask,\n\u001b[1;32m    <a href='file:///Users/claykaufmann/Projects/cs354-final-project/model/transformer.py?line=156'>157</a>\u001b[0m )\n\u001b[1;32m    <a href='file:///Users/claykaufmann/Projects/cs354-final-project/model/transformer.py?line=158'>159</a>\u001b[0m \u001b[39m# pass through final FC layer\u001b[39;00m\n\u001b[1;32m    <a href='file:///Users/claykaufmann/Projects/cs354-final-project/model/transformer.py?line=159'>160</a>\u001b[0m out \u001b[39m=\u001b[39m \u001b[39mself\u001b[39m\u001b[39m.\u001b[39mout(transformer_out)\n",
      "File \u001b[0;32m/opt/homebrew/Caskroom/miniforge/base/envs/music_transformer/lib/python3.10/site-packages/torch/nn/modules/module.py:1110\u001b[0m, in \u001b[0;36mModule._call_impl\u001b[0;34m(self, *input, **kwargs)\u001b[0m\n\u001b[1;32m   <a href='file:///opt/homebrew/Caskroom/miniforge/base/envs/music_transformer/lib/python3.10/site-packages/torch/nn/modules/module.py?line=1105'>1106</a>\u001b[0m \u001b[39m# If we don't have any hooks, we want to skip the rest of the logic in\u001b[39;00m\n\u001b[1;32m   <a href='file:///opt/homebrew/Caskroom/miniforge/base/envs/music_transformer/lib/python3.10/site-packages/torch/nn/modules/module.py?line=1106'>1107</a>\u001b[0m \u001b[39m# this function, and just call forward.\u001b[39;00m\n\u001b[1;32m   <a href='file:///opt/homebrew/Caskroom/miniforge/base/envs/music_transformer/lib/python3.10/site-packages/torch/nn/modules/module.py?line=1107'>1108</a>\u001b[0m \u001b[39mif\u001b[39;00m \u001b[39mnot\u001b[39;00m (\u001b[39mself\u001b[39m\u001b[39m.\u001b[39m_backward_hooks \u001b[39mor\u001b[39;00m \u001b[39mself\u001b[39m\u001b[39m.\u001b[39m_forward_hooks \u001b[39mor\u001b[39;00m \u001b[39mself\u001b[39m\u001b[39m.\u001b[39m_forward_pre_hooks \u001b[39mor\u001b[39;00m _global_backward_hooks\n\u001b[1;32m   <a href='file:///opt/homebrew/Caskroom/miniforge/base/envs/music_transformer/lib/python3.10/site-packages/torch/nn/modules/module.py?line=1108'>1109</a>\u001b[0m         \u001b[39mor\u001b[39;00m _global_forward_hooks \u001b[39mor\u001b[39;00m _global_forward_pre_hooks):\n\u001b[0;32m-> <a href='file:///opt/homebrew/Caskroom/miniforge/base/envs/music_transformer/lib/python3.10/site-packages/torch/nn/modules/module.py?line=1109'>1110</a>\u001b[0m     \u001b[39mreturn\u001b[39;00m forward_call(\u001b[39m*\u001b[39;49m\u001b[39minput\u001b[39;49m, \u001b[39m*\u001b[39;49m\u001b[39m*\u001b[39;49mkwargs)\n\u001b[1;32m   <a href='file:///opt/homebrew/Caskroom/miniforge/base/envs/music_transformer/lib/python3.10/site-packages/torch/nn/modules/module.py?line=1110'>1111</a>\u001b[0m \u001b[39m# Do not call functions when jit is used\u001b[39;00m\n\u001b[1;32m   <a href='file:///opt/homebrew/Caskroom/miniforge/base/envs/music_transformer/lib/python3.10/site-packages/torch/nn/modules/module.py?line=1111'>1112</a>\u001b[0m full_backward_hooks, non_full_backward_hooks \u001b[39m=\u001b[39m [], []\n",
      "File \u001b[0;32m/opt/homebrew/Caskroom/miniforge/base/envs/music_transformer/lib/python3.10/site-packages/torch/nn/modules/transformer.py:146\u001b[0m, in \u001b[0;36mTransformer.forward\u001b[0;34m(self, src, tgt, src_mask, tgt_mask, memory_mask, src_key_padding_mask, tgt_key_padding_mask, memory_key_padding_mask)\u001b[0m\n\u001b[1;32m    <a href='file:///opt/homebrew/Caskroom/miniforge/base/envs/music_transformer/lib/python3.10/site-packages/torch/nn/modules/transformer.py?line=142'>143</a>\u001b[0m     \u001b[39mraise\u001b[39;00m \u001b[39mRuntimeError\u001b[39;00m(\u001b[39m\"\u001b[39m\u001b[39mthe feature number of src and tgt must be equal to d_model\u001b[39m\u001b[39m\"\u001b[39m)\n\u001b[1;32m    <a href='file:///opt/homebrew/Caskroom/miniforge/base/envs/music_transformer/lib/python3.10/site-packages/torch/nn/modules/transformer.py?line=144'>145</a>\u001b[0m memory \u001b[39m=\u001b[39m \u001b[39mself\u001b[39m\u001b[39m.\u001b[39mencoder(src, mask\u001b[39m=\u001b[39msrc_mask, src_key_padding_mask\u001b[39m=\u001b[39msrc_key_padding_mask)\n\u001b[0;32m--> <a href='file:///opt/homebrew/Caskroom/miniforge/base/envs/music_transformer/lib/python3.10/site-packages/torch/nn/modules/transformer.py?line=145'>146</a>\u001b[0m output \u001b[39m=\u001b[39m \u001b[39mself\u001b[39;49m\u001b[39m.\u001b[39;49mdecoder(tgt, memory, tgt_mask\u001b[39m=\u001b[39;49mtgt_mask, memory_mask\u001b[39m=\u001b[39;49mmemory_mask,\n\u001b[1;32m    <a href='file:///opt/homebrew/Caskroom/miniforge/base/envs/music_transformer/lib/python3.10/site-packages/torch/nn/modules/transformer.py?line=146'>147</a>\u001b[0m                       tgt_key_padding_mask\u001b[39m=\u001b[39;49mtgt_key_padding_mask,\n\u001b[1;32m    <a href='file:///opt/homebrew/Caskroom/miniforge/base/envs/music_transformer/lib/python3.10/site-packages/torch/nn/modules/transformer.py?line=147'>148</a>\u001b[0m                       memory_key_padding_mask\u001b[39m=\u001b[39;49mmemory_key_padding_mask)\n\u001b[1;32m    <a href='file:///opt/homebrew/Caskroom/miniforge/base/envs/music_transformer/lib/python3.10/site-packages/torch/nn/modules/transformer.py?line=148'>149</a>\u001b[0m \u001b[39mreturn\u001b[39;00m output\n",
      "File \u001b[0;32m/opt/homebrew/Caskroom/miniforge/base/envs/music_transformer/lib/python3.10/site-packages/torch/nn/modules/module.py:1110\u001b[0m, in \u001b[0;36mModule._call_impl\u001b[0;34m(self, *input, **kwargs)\u001b[0m\n\u001b[1;32m   <a href='file:///opt/homebrew/Caskroom/miniforge/base/envs/music_transformer/lib/python3.10/site-packages/torch/nn/modules/module.py?line=1105'>1106</a>\u001b[0m \u001b[39m# If we don't have any hooks, we want to skip the rest of the logic in\u001b[39;00m\n\u001b[1;32m   <a href='file:///opt/homebrew/Caskroom/miniforge/base/envs/music_transformer/lib/python3.10/site-packages/torch/nn/modules/module.py?line=1106'>1107</a>\u001b[0m \u001b[39m# this function, and just call forward.\u001b[39;00m\n\u001b[1;32m   <a href='file:///opt/homebrew/Caskroom/miniforge/base/envs/music_transformer/lib/python3.10/site-packages/torch/nn/modules/module.py?line=1107'>1108</a>\u001b[0m \u001b[39mif\u001b[39;00m \u001b[39mnot\u001b[39;00m (\u001b[39mself\u001b[39m\u001b[39m.\u001b[39m_backward_hooks \u001b[39mor\u001b[39;00m \u001b[39mself\u001b[39m\u001b[39m.\u001b[39m_forward_hooks \u001b[39mor\u001b[39;00m \u001b[39mself\u001b[39m\u001b[39m.\u001b[39m_forward_pre_hooks \u001b[39mor\u001b[39;00m _global_backward_hooks\n\u001b[1;32m   <a href='file:///opt/homebrew/Caskroom/miniforge/base/envs/music_transformer/lib/python3.10/site-packages/torch/nn/modules/module.py?line=1108'>1109</a>\u001b[0m         \u001b[39mor\u001b[39;00m _global_forward_hooks \u001b[39mor\u001b[39;00m _global_forward_pre_hooks):\n\u001b[0;32m-> <a href='file:///opt/homebrew/Caskroom/miniforge/base/envs/music_transformer/lib/python3.10/site-packages/torch/nn/modules/module.py?line=1109'>1110</a>\u001b[0m     \u001b[39mreturn\u001b[39;00m forward_call(\u001b[39m*\u001b[39;49m\u001b[39minput\u001b[39;49m, \u001b[39m*\u001b[39;49m\u001b[39m*\u001b[39;49mkwargs)\n\u001b[1;32m   <a href='file:///opt/homebrew/Caskroom/miniforge/base/envs/music_transformer/lib/python3.10/site-packages/torch/nn/modules/module.py?line=1110'>1111</a>\u001b[0m \u001b[39m# Do not call functions when jit is used\u001b[39;00m\n\u001b[1;32m   <a href='file:///opt/homebrew/Caskroom/miniforge/base/envs/music_transformer/lib/python3.10/site-packages/torch/nn/modules/module.py?line=1111'>1112</a>\u001b[0m full_backward_hooks, non_full_backward_hooks \u001b[39m=\u001b[39m [], []\n",
      "File \u001b[0;32m/opt/homebrew/Caskroom/miniforge/base/envs/music_transformer/lib/python3.10/site-packages/torch/nn/modules/transformer.py:252\u001b[0m, in \u001b[0;36mTransformerDecoder.forward\u001b[0;34m(self, tgt, memory, tgt_mask, memory_mask, tgt_key_padding_mask, memory_key_padding_mask)\u001b[0m\n\u001b[1;32m    <a href='file:///opt/homebrew/Caskroom/miniforge/base/envs/music_transformer/lib/python3.10/site-packages/torch/nn/modules/transformer.py?line=248'>249</a>\u001b[0m output \u001b[39m=\u001b[39m tgt\n\u001b[1;32m    <a href='file:///opt/homebrew/Caskroom/miniforge/base/envs/music_transformer/lib/python3.10/site-packages/torch/nn/modules/transformer.py?line=250'>251</a>\u001b[0m \u001b[39mfor\u001b[39;00m mod \u001b[39min\u001b[39;00m \u001b[39mself\u001b[39m\u001b[39m.\u001b[39mlayers:\n\u001b[0;32m--> <a href='file:///opt/homebrew/Caskroom/miniforge/base/envs/music_transformer/lib/python3.10/site-packages/torch/nn/modules/transformer.py?line=251'>252</a>\u001b[0m     output \u001b[39m=\u001b[39m mod(output, memory, tgt_mask\u001b[39m=\u001b[39;49mtgt_mask,\n\u001b[1;32m    <a href='file:///opt/homebrew/Caskroom/miniforge/base/envs/music_transformer/lib/python3.10/site-packages/torch/nn/modules/transformer.py?line=252'>253</a>\u001b[0m                  memory_mask\u001b[39m=\u001b[39;49mmemory_mask,\n\u001b[1;32m    <a href='file:///opt/homebrew/Caskroom/miniforge/base/envs/music_transformer/lib/python3.10/site-packages/torch/nn/modules/transformer.py?line=253'>254</a>\u001b[0m                  tgt_key_padding_mask\u001b[39m=\u001b[39;49mtgt_key_padding_mask,\n\u001b[1;32m    <a href='file:///opt/homebrew/Caskroom/miniforge/base/envs/music_transformer/lib/python3.10/site-packages/torch/nn/modules/transformer.py?line=254'>255</a>\u001b[0m                  memory_key_padding_mask\u001b[39m=\u001b[39;49mmemory_key_padding_mask)\n\u001b[1;32m    <a href='file:///opt/homebrew/Caskroom/miniforge/base/envs/music_transformer/lib/python3.10/site-packages/torch/nn/modules/transformer.py?line=256'>257</a>\u001b[0m \u001b[39mif\u001b[39;00m \u001b[39mself\u001b[39m\u001b[39m.\u001b[39mnorm \u001b[39mis\u001b[39;00m \u001b[39mnot\u001b[39;00m \u001b[39mNone\u001b[39;00m:\n\u001b[1;32m    <a href='file:///opt/homebrew/Caskroom/miniforge/base/envs/music_transformer/lib/python3.10/site-packages/torch/nn/modules/transformer.py?line=257'>258</a>\u001b[0m     output \u001b[39m=\u001b[39m \u001b[39mself\u001b[39m\u001b[39m.\u001b[39mnorm(output)\n",
      "File \u001b[0;32m/opt/homebrew/Caskroom/miniforge/base/envs/music_transformer/lib/python3.10/site-packages/torch/nn/modules/module.py:1110\u001b[0m, in \u001b[0;36mModule._call_impl\u001b[0;34m(self, *input, **kwargs)\u001b[0m\n\u001b[1;32m   <a href='file:///opt/homebrew/Caskroom/miniforge/base/envs/music_transformer/lib/python3.10/site-packages/torch/nn/modules/module.py?line=1105'>1106</a>\u001b[0m \u001b[39m# If we don't have any hooks, we want to skip the rest of the logic in\u001b[39;00m\n\u001b[1;32m   <a href='file:///opt/homebrew/Caskroom/miniforge/base/envs/music_transformer/lib/python3.10/site-packages/torch/nn/modules/module.py?line=1106'>1107</a>\u001b[0m \u001b[39m# this function, and just call forward.\u001b[39;00m\n\u001b[1;32m   <a href='file:///opt/homebrew/Caskroom/miniforge/base/envs/music_transformer/lib/python3.10/site-packages/torch/nn/modules/module.py?line=1107'>1108</a>\u001b[0m \u001b[39mif\u001b[39;00m \u001b[39mnot\u001b[39;00m (\u001b[39mself\u001b[39m\u001b[39m.\u001b[39m_backward_hooks \u001b[39mor\u001b[39;00m \u001b[39mself\u001b[39m\u001b[39m.\u001b[39m_forward_hooks \u001b[39mor\u001b[39;00m \u001b[39mself\u001b[39m\u001b[39m.\u001b[39m_forward_pre_hooks \u001b[39mor\u001b[39;00m _global_backward_hooks\n\u001b[1;32m   <a href='file:///opt/homebrew/Caskroom/miniforge/base/envs/music_transformer/lib/python3.10/site-packages/torch/nn/modules/module.py?line=1108'>1109</a>\u001b[0m         \u001b[39mor\u001b[39;00m _global_forward_hooks \u001b[39mor\u001b[39;00m _global_forward_pre_hooks):\n\u001b[0;32m-> <a href='file:///opt/homebrew/Caskroom/miniforge/base/envs/music_transformer/lib/python3.10/site-packages/torch/nn/modules/module.py?line=1109'>1110</a>\u001b[0m     \u001b[39mreturn\u001b[39;00m forward_call(\u001b[39m*\u001b[39;49m\u001b[39minput\u001b[39;49m, \u001b[39m*\u001b[39;49m\u001b[39m*\u001b[39;49mkwargs)\n\u001b[1;32m   <a href='file:///opt/homebrew/Caskroom/miniforge/base/envs/music_transformer/lib/python3.10/site-packages/torch/nn/modules/module.py?line=1110'>1111</a>\u001b[0m \u001b[39m# Do not call functions when jit is used\u001b[39;00m\n\u001b[1;32m   <a href='file:///opt/homebrew/Caskroom/miniforge/base/envs/music_transformer/lib/python3.10/site-packages/torch/nn/modules/module.py?line=1111'>1112</a>\u001b[0m full_backward_hooks, non_full_backward_hooks \u001b[39m=\u001b[39m [], []\n",
      "File \u001b[0;32m/opt/homebrew/Caskroom/miniforge/base/envs/music_transformer/lib/python3.10/site-packages/torch/nn/modules/transformer.py:457\u001b[0m, in \u001b[0;36mTransformerDecoderLayer.forward\u001b[0;34m(self, tgt, memory, tgt_mask, memory_mask, tgt_key_padding_mask, memory_key_padding_mask)\u001b[0m\n\u001b[1;32m    <a href='file:///opt/homebrew/Caskroom/miniforge/base/envs/music_transformer/lib/python3.10/site-packages/torch/nn/modules/transformer.py?line=454'>455</a>\u001b[0m     x \u001b[39m=\u001b[39m x \u001b[39m+\u001b[39m \u001b[39mself\u001b[39m\u001b[39m.\u001b[39m_ff_block(\u001b[39mself\u001b[39m\u001b[39m.\u001b[39mnorm3(x))\n\u001b[1;32m    <a href='file:///opt/homebrew/Caskroom/miniforge/base/envs/music_transformer/lib/python3.10/site-packages/torch/nn/modules/transformer.py?line=455'>456</a>\u001b[0m \u001b[39melse\u001b[39;00m:\n\u001b[0;32m--> <a href='file:///opt/homebrew/Caskroom/miniforge/base/envs/music_transformer/lib/python3.10/site-packages/torch/nn/modules/transformer.py?line=456'>457</a>\u001b[0m     x \u001b[39m=\u001b[39m \u001b[39mself\u001b[39m\u001b[39m.\u001b[39mnorm1(x \u001b[39m+\u001b[39m \u001b[39mself\u001b[39;49m\u001b[39m.\u001b[39;49m_sa_block(x, tgt_mask, tgt_key_padding_mask))\n\u001b[1;32m    <a href='file:///opt/homebrew/Caskroom/miniforge/base/envs/music_transformer/lib/python3.10/site-packages/torch/nn/modules/transformer.py?line=457'>458</a>\u001b[0m     x \u001b[39m=\u001b[39m \u001b[39mself\u001b[39m\u001b[39m.\u001b[39mnorm2(x \u001b[39m+\u001b[39m \u001b[39mself\u001b[39m\u001b[39m.\u001b[39m_mha_block(x, memory, memory_mask, memory_key_padding_mask))\n\u001b[1;32m    <a href='file:///opt/homebrew/Caskroom/miniforge/base/envs/music_transformer/lib/python3.10/site-packages/torch/nn/modules/transformer.py?line=458'>459</a>\u001b[0m     x \u001b[39m=\u001b[39m \u001b[39mself\u001b[39m\u001b[39m.\u001b[39mnorm3(x \u001b[39m+\u001b[39m \u001b[39mself\u001b[39m\u001b[39m.\u001b[39m_ff_block(x))\n",
      "File \u001b[0;32m/opt/homebrew/Caskroom/miniforge/base/envs/music_transformer/lib/python3.10/site-packages/torch/nn/modules/transformer.py:466\u001b[0m, in \u001b[0;36mTransformerDecoderLayer._sa_block\u001b[0;34m(self, x, attn_mask, key_padding_mask)\u001b[0m\n\u001b[1;32m    <a href='file:///opt/homebrew/Caskroom/miniforge/base/envs/music_transformer/lib/python3.10/site-packages/torch/nn/modules/transformer.py?line=463'>464</a>\u001b[0m \u001b[39mdef\u001b[39;00m \u001b[39m_sa_block\u001b[39m(\u001b[39mself\u001b[39m, x: Tensor,\n\u001b[1;32m    <a href='file:///opt/homebrew/Caskroom/miniforge/base/envs/music_transformer/lib/python3.10/site-packages/torch/nn/modules/transformer.py?line=464'>465</a>\u001b[0m               attn_mask: Optional[Tensor], key_padding_mask: Optional[Tensor]) \u001b[39m-\u001b[39m\u001b[39m>\u001b[39m Tensor:\n\u001b[0;32m--> <a href='file:///opt/homebrew/Caskroom/miniforge/base/envs/music_transformer/lib/python3.10/site-packages/torch/nn/modules/transformer.py?line=465'>466</a>\u001b[0m     x \u001b[39m=\u001b[39m \u001b[39mself\u001b[39;49m\u001b[39m.\u001b[39;49mself_attn(x, x, x,\n\u001b[1;32m    <a href='file:///opt/homebrew/Caskroom/miniforge/base/envs/music_transformer/lib/python3.10/site-packages/torch/nn/modules/transformer.py?line=466'>467</a>\u001b[0m                        attn_mask\u001b[39m=\u001b[39;49mattn_mask,\n\u001b[1;32m    <a href='file:///opt/homebrew/Caskroom/miniforge/base/envs/music_transformer/lib/python3.10/site-packages/torch/nn/modules/transformer.py?line=467'>468</a>\u001b[0m                        key_padding_mask\u001b[39m=\u001b[39;49mkey_padding_mask,\n\u001b[1;32m    <a href='file:///opt/homebrew/Caskroom/miniforge/base/envs/music_transformer/lib/python3.10/site-packages/torch/nn/modules/transformer.py?line=468'>469</a>\u001b[0m                        need_weights\u001b[39m=\u001b[39;49m\u001b[39mFalse\u001b[39;49;00m)[\u001b[39m0\u001b[39m]\n\u001b[1;32m    <a href='file:///opt/homebrew/Caskroom/miniforge/base/envs/music_transformer/lib/python3.10/site-packages/torch/nn/modules/transformer.py?line=469'>470</a>\u001b[0m     \u001b[39mreturn\u001b[39;00m \u001b[39mself\u001b[39m\u001b[39m.\u001b[39mdropout1(x)\n",
      "File \u001b[0;32m/opt/homebrew/Caskroom/miniforge/base/envs/music_transformer/lib/python3.10/site-packages/torch/nn/modules/module.py:1110\u001b[0m, in \u001b[0;36mModule._call_impl\u001b[0;34m(self, *input, **kwargs)\u001b[0m\n\u001b[1;32m   <a href='file:///opt/homebrew/Caskroom/miniforge/base/envs/music_transformer/lib/python3.10/site-packages/torch/nn/modules/module.py?line=1105'>1106</a>\u001b[0m \u001b[39m# If we don't have any hooks, we want to skip the rest of the logic in\u001b[39;00m\n\u001b[1;32m   <a href='file:///opt/homebrew/Caskroom/miniforge/base/envs/music_transformer/lib/python3.10/site-packages/torch/nn/modules/module.py?line=1106'>1107</a>\u001b[0m \u001b[39m# this function, and just call forward.\u001b[39;00m\n\u001b[1;32m   <a href='file:///opt/homebrew/Caskroom/miniforge/base/envs/music_transformer/lib/python3.10/site-packages/torch/nn/modules/module.py?line=1107'>1108</a>\u001b[0m \u001b[39mif\u001b[39;00m \u001b[39mnot\u001b[39;00m (\u001b[39mself\u001b[39m\u001b[39m.\u001b[39m_backward_hooks \u001b[39mor\u001b[39;00m \u001b[39mself\u001b[39m\u001b[39m.\u001b[39m_forward_hooks \u001b[39mor\u001b[39;00m \u001b[39mself\u001b[39m\u001b[39m.\u001b[39m_forward_pre_hooks \u001b[39mor\u001b[39;00m _global_backward_hooks\n\u001b[1;32m   <a href='file:///opt/homebrew/Caskroom/miniforge/base/envs/music_transformer/lib/python3.10/site-packages/torch/nn/modules/module.py?line=1108'>1109</a>\u001b[0m         \u001b[39mor\u001b[39;00m _global_forward_hooks \u001b[39mor\u001b[39;00m _global_forward_pre_hooks):\n\u001b[0;32m-> <a href='file:///opt/homebrew/Caskroom/miniforge/base/envs/music_transformer/lib/python3.10/site-packages/torch/nn/modules/module.py?line=1109'>1110</a>\u001b[0m     \u001b[39mreturn\u001b[39;00m forward_call(\u001b[39m*\u001b[39;49m\u001b[39minput\u001b[39;49m, \u001b[39m*\u001b[39;49m\u001b[39m*\u001b[39;49mkwargs)\n\u001b[1;32m   <a href='file:///opt/homebrew/Caskroom/miniforge/base/envs/music_transformer/lib/python3.10/site-packages/torch/nn/modules/module.py?line=1110'>1111</a>\u001b[0m \u001b[39m# Do not call functions when jit is used\u001b[39;00m\n\u001b[1;32m   <a href='file:///opt/homebrew/Caskroom/miniforge/base/envs/music_transformer/lib/python3.10/site-packages/torch/nn/modules/module.py?line=1111'>1112</a>\u001b[0m full_backward_hooks, non_full_backward_hooks \u001b[39m=\u001b[39m [], []\n",
      "File \u001b[0;32m/opt/homebrew/Caskroom/miniforge/base/envs/music_transformer/lib/python3.10/site-packages/torch/nn/modules/activation.py:1038\u001b[0m, in \u001b[0;36mMultiheadAttention.forward\u001b[0;34m(self, query, key, value, key_padding_mask, need_weights, attn_mask, average_attn_weights)\u001b[0m\n\u001b[1;32m   <a href='file:///opt/homebrew/Caskroom/miniforge/base/envs/music_transformer/lib/python3.10/site-packages/torch/nn/modules/activation.py?line=1026'>1027</a>\u001b[0m     attn_output, attn_output_weights \u001b[39m=\u001b[39m F\u001b[39m.\u001b[39mmulti_head_attention_forward(\n\u001b[1;32m   <a href='file:///opt/homebrew/Caskroom/miniforge/base/envs/music_transformer/lib/python3.10/site-packages/torch/nn/modules/activation.py?line=1027'>1028</a>\u001b[0m         query, key, value, \u001b[39mself\u001b[39m\u001b[39m.\u001b[39membed_dim, \u001b[39mself\u001b[39m\u001b[39m.\u001b[39mnum_heads,\n\u001b[1;32m   <a href='file:///opt/homebrew/Caskroom/miniforge/base/envs/music_transformer/lib/python3.10/site-packages/torch/nn/modules/activation.py?line=1028'>1029</a>\u001b[0m         \u001b[39mself\u001b[39m\u001b[39m.\u001b[39min_proj_weight, \u001b[39mself\u001b[39m\u001b[39m.\u001b[39min_proj_bias,\n\u001b[0;32m   (...)\u001b[0m\n\u001b[1;32m   <a href='file:///opt/homebrew/Caskroom/miniforge/base/envs/music_transformer/lib/python3.10/site-packages/torch/nn/modules/activation.py?line=1034'>1035</a>\u001b[0m         q_proj_weight\u001b[39m=\u001b[39m\u001b[39mself\u001b[39m\u001b[39m.\u001b[39mq_proj_weight, k_proj_weight\u001b[39m=\u001b[39m\u001b[39mself\u001b[39m\u001b[39m.\u001b[39mk_proj_weight,\n\u001b[1;32m   <a href='file:///opt/homebrew/Caskroom/miniforge/base/envs/music_transformer/lib/python3.10/site-packages/torch/nn/modules/activation.py?line=1035'>1036</a>\u001b[0m         v_proj_weight\u001b[39m=\u001b[39m\u001b[39mself\u001b[39m\u001b[39m.\u001b[39mv_proj_weight, average_attn_weights\u001b[39m=\u001b[39maverage_attn_weights)\n\u001b[1;32m   <a href='file:///opt/homebrew/Caskroom/miniforge/base/envs/music_transformer/lib/python3.10/site-packages/torch/nn/modules/activation.py?line=1036'>1037</a>\u001b[0m \u001b[39melse\u001b[39;00m:\n\u001b[0;32m-> <a href='file:///opt/homebrew/Caskroom/miniforge/base/envs/music_transformer/lib/python3.10/site-packages/torch/nn/modules/activation.py?line=1037'>1038</a>\u001b[0m     attn_output, attn_output_weights \u001b[39m=\u001b[39m F\u001b[39m.\u001b[39;49mmulti_head_attention_forward(\n\u001b[1;32m   <a href='file:///opt/homebrew/Caskroom/miniforge/base/envs/music_transformer/lib/python3.10/site-packages/torch/nn/modules/activation.py?line=1038'>1039</a>\u001b[0m         query, key, value, \u001b[39mself\u001b[39;49m\u001b[39m.\u001b[39;49membed_dim, \u001b[39mself\u001b[39;49m\u001b[39m.\u001b[39;49mnum_heads,\n\u001b[1;32m   <a href='file:///opt/homebrew/Caskroom/miniforge/base/envs/music_transformer/lib/python3.10/site-packages/torch/nn/modules/activation.py?line=1039'>1040</a>\u001b[0m         \u001b[39mself\u001b[39;49m\u001b[39m.\u001b[39;49min_proj_weight, \u001b[39mself\u001b[39;49m\u001b[39m.\u001b[39;49min_proj_bias,\n\u001b[1;32m   <a href='file:///opt/homebrew/Caskroom/miniforge/base/envs/music_transformer/lib/python3.10/site-packages/torch/nn/modules/activation.py?line=1040'>1041</a>\u001b[0m         \u001b[39mself\u001b[39;49m\u001b[39m.\u001b[39;49mbias_k, \u001b[39mself\u001b[39;49m\u001b[39m.\u001b[39;49mbias_v, \u001b[39mself\u001b[39;49m\u001b[39m.\u001b[39;49madd_zero_attn,\n\u001b[1;32m   <a href='file:///opt/homebrew/Caskroom/miniforge/base/envs/music_transformer/lib/python3.10/site-packages/torch/nn/modules/activation.py?line=1041'>1042</a>\u001b[0m         \u001b[39mself\u001b[39;49m\u001b[39m.\u001b[39;49mdropout, \u001b[39mself\u001b[39;49m\u001b[39m.\u001b[39;49mout_proj\u001b[39m.\u001b[39;49mweight, \u001b[39mself\u001b[39;49m\u001b[39m.\u001b[39;49mout_proj\u001b[39m.\u001b[39;49mbias,\n\u001b[1;32m   <a href='file:///opt/homebrew/Caskroom/miniforge/base/envs/music_transformer/lib/python3.10/site-packages/torch/nn/modules/activation.py?line=1042'>1043</a>\u001b[0m         training\u001b[39m=\u001b[39;49m\u001b[39mself\u001b[39;49m\u001b[39m.\u001b[39;49mtraining,\n\u001b[1;32m   <a href='file:///opt/homebrew/Caskroom/miniforge/base/envs/music_transformer/lib/python3.10/site-packages/torch/nn/modules/activation.py?line=1043'>1044</a>\u001b[0m         key_padding_mask\u001b[39m=\u001b[39;49mkey_padding_mask, need_weights\u001b[39m=\u001b[39;49mneed_weights,\n\u001b[1;32m   <a href='file:///opt/homebrew/Caskroom/miniforge/base/envs/music_transformer/lib/python3.10/site-packages/torch/nn/modules/activation.py?line=1044'>1045</a>\u001b[0m         attn_mask\u001b[39m=\u001b[39;49mattn_mask, average_attn_weights\u001b[39m=\u001b[39;49maverage_attn_weights)\n\u001b[1;32m   <a href='file:///opt/homebrew/Caskroom/miniforge/base/envs/music_transformer/lib/python3.10/site-packages/torch/nn/modules/activation.py?line=1045'>1046</a>\u001b[0m \u001b[39mif\u001b[39;00m \u001b[39mself\u001b[39m\u001b[39m.\u001b[39mbatch_first \u001b[39mand\u001b[39;00m is_batched:\n\u001b[1;32m   <a href='file:///opt/homebrew/Caskroom/miniforge/base/envs/music_transformer/lib/python3.10/site-packages/torch/nn/modules/activation.py?line=1046'>1047</a>\u001b[0m     \u001b[39mreturn\u001b[39;00m attn_output\u001b[39m.\u001b[39mtranspose(\u001b[39m1\u001b[39m, \u001b[39m0\u001b[39m), attn_output_weights\n",
      "File \u001b[0;32m/opt/homebrew/Caskroom/miniforge/base/envs/music_transformer/lib/python3.10/site-packages/torch/nn/functional.py:5360\u001b[0m, in \u001b[0;36mmulti_head_attention_forward\u001b[0;34m(query, key, value, embed_dim_to_check, num_heads, in_proj_weight, in_proj_bias, bias_k, bias_v, add_zero_attn, dropout_p, out_proj_weight, out_proj_bias, training, key_padding_mask, need_weights, attn_mask, use_separate_proj_weight, q_proj_weight, k_proj_weight, v_proj_weight, static_k, static_v, average_attn_weights)\u001b[0m\n\u001b[1;32m   <a href='file:///opt/homebrew/Caskroom/miniforge/base/envs/music_transformer/lib/python3.10/site-packages/torch/nn/functional.py?line=5357'>5358</a>\u001b[0m attn_output, attn_output_weights \u001b[39m=\u001b[39m _scaled_dot_product_attention(q, k, v, attn_mask, dropout_p)\n\u001b[1;32m   <a href='file:///opt/homebrew/Caskroom/miniforge/base/envs/music_transformer/lib/python3.10/site-packages/torch/nn/functional.py?line=5358'>5359</a>\u001b[0m attn_output \u001b[39m=\u001b[39m attn_output\u001b[39m.\u001b[39mtranspose(\u001b[39m0\u001b[39m, \u001b[39m1\u001b[39m)\u001b[39m.\u001b[39mcontiguous()\u001b[39m.\u001b[39mview(tgt_len, bsz, embed_dim)\n\u001b[0;32m-> <a href='file:///opt/homebrew/Caskroom/miniforge/base/envs/music_transformer/lib/python3.10/site-packages/torch/nn/functional.py?line=5359'>5360</a>\u001b[0m attn_output \u001b[39m=\u001b[39m linear(attn_output, out_proj_weight, out_proj_bias)\n\u001b[1;32m   <a href='file:///opt/homebrew/Caskroom/miniforge/base/envs/music_transformer/lib/python3.10/site-packages/torch/nn/functional.py?line=5361'>5362</a>\u001b[0m \u001b[39mif\u001b[39;00m need_weights:\n\u001b[1;32m   <a href='file:///opt/homebrew/Caskroom/miniforge/base/envs/music_transformer/lib/python3.10/site-packages/torch/nn/functional.py?line=5362'>5363</a>\u001b[0m     \u001b[39m# optionally average attention weights over heads\u001b[39;00m\n\u001b[1;32m   <a href='file:///opt/homebrew/Caskroom/miniforge/base/envs/music_transformer/lib/python3.10/site-packages/torch/nn/functional.py?line=5363'>5364</a>\u001b[0m     attn_output_weights \u001b[39m=\u001b[39m attn_output_weights\u001b[39m.\u001b[39mview(bsz, num_heads, tgt_len, src_len)\n",
      "\u001b[0;31mKeyboardInterrupt\u001b[0m: "
     ]
    }
   ],
   "source": [
    "# load saved model params\n",
    "model.load_state_dict(\n",
    "    torch.load(\"./results/transformer/model_params/transformer_music.pth\")\n",
    ")\n",
    "\n",
    "# set to test\n",
    "model.eval()\n",
    "\n",
    "\n",
    "# get some data, set a sequence length\n",
    "with torch.no_grad():\n",
    "    # get first index from val\n",
    "    batch = next(iter(val_dataloader))\n",
    "\n",
    "    primer = batch[0]\n",
    "    primer = primer.long().to(device)\n",
    "    labels = batch[2].long().to(device)\n",
    "\n",
    "    primer = primer.permute(1, 0)\n",
    "    labels = labels.permute(1, 0)\n",
    "    primer = torch.tensor(primer[:1], dtype=torch.long)\n",
    "    labels = torch.tensor(labels[:1], dtype=torch.long)\n",
    "    primer = primer.permute(1, 0)\n",
    "    labels = labels.permute(1, 0)\n",
    "\n",
    "    primer = primer[:50]\n",
    "    labels = primer[:50]\n",
    "\n",
    "    data = model.generate(primer, device, labels, target_seq_length=300)\n",
    "\n",
    "# decode the returned info\n",
    "\n",
    "# use muspy to turn data into mp3\n",
    "# convert the output into a music object with muspy.from_event_representation()\n",
    "\n",
    "# call muspy.write_audio(), passing in music file, and format, to format into audio file\n"
   ]
  }
 ],
 "metadata": {
  "interpreter": {
   "hash": "94f4b4549c83f05dde00f53bd3bd913a638144854d81a9c8d442170225184b53"
  },
  "kernelspec": {
   "display_name": "Python 3.10.4 ('music_transformer')",
   "language": "python",
   "name": "python3"
  },
  "language_info": {
   "codemirror_mode": {
    "name": "ipython",
    "version": 3
   },
   "file_extension": ".py",
   "mimetype": "text/x-python",
   "name": "python",
   "nbconvert_exporter": "python",
   "pygments_lexer": "ipython3",
   "version": "3.10.4"
  },
  "orig_nbformat": 4
 },
 "nbformat": 4,
 "nbformat_minor": 2
}
