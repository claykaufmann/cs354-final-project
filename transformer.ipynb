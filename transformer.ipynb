{
 "cells": [
  {
   "cell_type": "markdown",
   "metadata": {},
   "source": [
    "# Transformer Jupyter Notebook\n",
    "This file is mostly for testing our transformer model for generating music. Real training can be done with the `train.py` file."
   ]
  },
  {
   "cell_type": "code",
   "execution_count": 2,
   "metadata": {},
   "outputs": [],
   "source": [
    "from data_processing.Datasets import get_maestro_dataset, collate_fn\n",
    "from torch.utils.data import DataLoader\n",
    "import torch.optim as optim\n",
    "import torch\n",
    "import torch.nn as nn\n",
    "from model.transformer import Transformer\n",
    "from tqdm import tqdm\n",
    "from time import sleep\n",
    "from functools import partial\n"
   ]
  },
  {
   "cell_type": "code",
   "execution_count": 3,
   "metadata": {},
   "outputs": [],
   "source": [
    "%load_ext autoreload\n",
    "%autoreload 2"
   ]
  },
  {
   "cell_type": "code",
   "execution_count": 4,
   "metadata": {},
   "outputs": [],
   "source": [
    "# training hyperparams\n",
    "EPOCHS = 10\n",
    "LEARNING_RATE = 0.01\n",
    "\n",
    "# data hyperparams\n",
    "SEQ_LEN = 1000\n",
    "BATCH_SIZE = 32\n",
    "EVAL_BATCH_SIZE = 10\n",
    "\n",
    "# model hyperparams\n",
    "NUM_TOKENS = 128\n",
    "DIM_MODEL = 512\n",
    "NUM_HEADS = 2\n",
    "NUM_ENCODER_LAYERS = 3\n",
    "NUM_DECODER_LAYERS = 3\n",
    "DROPOUT_P = 0.1\n"
   ]
  },
  {
   "cell_type": "code",
   "execution_count": 5,
   "metadata": {},
   "outputs": [],
   "source": [
    "# load device\n",
    "device = torch.device(\"cuda\" if torch.cuda.is_available() else \"cpu\")\n"
   ]
  },
  {
   "cell_type": "markdown",
   "metadata": {},
   "source": [
    "## Data\n",
    "\n",
    "### Maestro Dataset\n",
    "\n",
    "Call a helper function that returns the MAESTRO dataset as a pytorch dataset, using the MusPy library.\n"
   ]
  },
  {
   "cell_type": "code",
   "execution_count": 7,
   "metadata": {},
   "outputs": [
    {
     "name": "stdout",
     "output_type": "stream",
     "text": [
      "Downloading source : https://storage.googleapis.com/magentadata/datasets/maestro/v3.0.0/maestro-v3.0.0-midi.zip ...\n"
     ]
    },
    {
     "name": "stderr",
     "output_type": "stream",
     "text": [
      "208315564032it [00:18, 11396109051.55it/s]                                      \n"
     ]
    },
    {
     "name": "stdout",
     "output_type": "stream",
     "text": [
      "Successfully downloaded source : /Users/jts/School/deeplearn/cs354-final-project/data/maestro/maestro-v3.0.0-midi.zip .\n",
      "Extracting archive : /Users/jts/School/deeplearn/cs354-final-project/data/maestro/maestro-v3.0.0-midi.zip ...\n",
      "Successfully extracted archive : /Users/jts/School/deeplearn/cs354-final-project/data/maestro .\n",
      "Converting and saving the dataset...\n"
     ]
    },
    {
     "name": "stderr",
     "output_type": "stream",
     "text": [
      "100%|███████████████████████████████████████| 1276/1276 [11:15<00:00,  1.89it/s]"
     ]
    },
    {
     "name": "stdout",
     "output_type": "stream",
     "text": [
      "Successfully saved 1276 out of 1276 files.\n"
     ]
    },
    {
     "name": "stderr",
     "output_type": "stream",
     "text": [
      "\n"
     ]
    }
   ],
   "source": [
    "train_data, test_data = get_maestro_dataset(\"data/maestro\", representation=\"pitch\")\n"
   ]
  },
  {
   "cell_type": "markdown",
   "metadata": {},
   "source": [
    "### Batching\n",
    "\n",
    "Build dataloaders for training/testing. A custom collate_fn pads sequence lengths, cuts them down to the `SEQ_LEN` hyperparam, and creates the targets tensor as well.\n"
   ]
  },
  {
   "cell_type": "code",
   "execution_count": 8,
   "metadata": {},
   "outputs": [],
   "source": [
    "# Build dataloaders\n",
    "train_dataloader = DataLoader(\n",
    "    dataset=train_data,\n",
    "    batch_size=BATCH_SIZE,\n",
    "    collate_fn=partial(collate_fn, seq_len=SEQ_LEN, device=device),\n",
    "    shuffle=False,\n",
    ")\n",
    "\n",
    "val_dataloader = DataLoader(\n",
    "    dataset=test_data,\n",
    "    batch_size=EVAL_BATCH_SIZE,\n",
    "    collate_fn=partial(collate_fn, seq_len=SEQ_LEN, device=device),\n",
    "    shuffle=False,\n",
    ")\n"
   ]
  },
  {
   "cell_type": "markdown",
   "metadata": {},
   "source": [
    "## Build Model\n",
    "\n",
    "Call the transformer class, which is a wrapper around the core PyTorch transformer.\n",
    "\n",
    "Pass in hyperparams for the model.\n"
   ]
  },
  {
   "cell_type": "code",
   "execution_count": 9,
   "metadata": {},
   "outputs": [],
   "source": [
    "# create model, optim, criterion\n",
    "model = Transformer(\n",
    "    num_tokens=NUM_TOKENS,\n",
    "    dim_model=DIM_MODEL,\n",
    "    num_heads=NUM_HEADS,\n",
    "    num_encoder_layers=NUM_ENCODER_LAYERS,\n",
    "    num_decoder_layers=NUM_DECODER_LAYERS,\n",
    "    dropout_p=DROPOUT_P,\n",
    ").to(device)\n",
    "\n",
    "# create optmizer, pass in learning rate hyperparam\n",
    "opt = torch.optim.SGD(model.parameters(), lr=LEARNING_RATE)\n",
    "\n",
    "# create loss function\n",
    "loss_fn = nn.CrossEntropyLoss()\n"
   ]
  },
  {
   "cell_type": "markdown",
   "metadata": {},
   "source": [
    "## Train\n",
    "\n",
    "### Functions for training\n",
    "\n",
    "A training, validation, and general fit function for fitting the model.\n"
   ]
  },
  {
   "cell_type": "code",
   "execution_count": 10,
   "metadata": {},
   "outputs": [],
   "source": [
    "def train(model, optimizer, loss_fn, dataloader):\n",
    "    \"\"\"\n",
    "    train the model\n",
    "    \"\"\"\n",
    "    # set model to training mode\n",
    "    model.train()\n",
    "\n",
    "    # init loss metrics\n",
    "    total_loss = 0\n",
    "\n",
    "    with tqdm(dataloader, unit=\"batch\") as bar:\n",
    "        for batch in bar:\n",
    "            X, y = batch[0], batch[2]\n",
    "\n",
    "            X = batch[0].clone().detach()\n",
    "            y = batch[2].clone().detach()\n",
    "\n",
    "            X = X.long().to(device)\n",
    "            y = y.long().to(device)\n",
    "\n",
    "            # separate these inputs to stop mess ups in permutations\n",
    "            y_input = y\n",
    "            y_expected = y\n",
    "\n",
    "            seq_len = y_input.size(0)\n",
    "            tgt_mask = model.get_tgt_mask(seq_len).to(device)\n",
    "\n",
    "            # get prediction\n",
    "            pred = model(X, y_input, tgt_mask)\n",
    "\n",
    "            # permute pred and y_expected to put batch first\n",
    "            pred = pred.permute(1, 2, 0)\n",
    "            y_expected = y.permute(1, 0)\n",
    "\n",
    "            # calc loss\n",
    "            loss = loss_fn(pred, y_expected)\n",
    "\n",
    "            # set zero gradients\n",
    "            optimizer.zero_grad()\n",
    "\n",
    "            # backprop\n",
    "            loss.backward()\n",
    "\n",
    "            # step optimizer\n",
    "            optimizer.step()\n",
    "\n",
    "            # update loss metrics\n",
    "            total_loss += loss.detach().item()\n",
    "\n",
    "            # update progress bar\n",
    "            bar.set_postfix(loss=loss.item())\n",
    "            bar.update()\n",
    "            sleep(0.1)\n",
    "\n",
    "    # return the total loss (for plotting per epoch)\n",
    "    return total_loss / len(dataloader)\n",
    "\n",
    "\n",
    "def validation(model, loss_fn, dataloader):\n",
    "    \"\"\"\n",
    "    validation loop\n",
    "    \"\"\"\n",
    "    model.eval()\n",
    "    total_loss = 0\n",
    "\n",
    "    with torch.no_grad():\n",
    "        with tqdm(dataloader, unit=\"batch\") as bar:\n",
    "            for batch in dataloader:\n",
    "                X, y = batch[0], batch[2]\n",
    "\n",
    "                X = batch[0].clone().detach()\n",
    "                y = batch[2].clone().detach()\n",
    "\n",
    "                # Now we shift the tgt by one so with the <SOS> we predict the token at pos 1\n",
    "                y_input = y\n",
    "                y_expected = y\n",
    "\n",
    "                # Get mask to mask out the next words\n",
    "                sequence_length = y_input.size(0)\n",
    "                tgt_mask = model.get_tgt_mask(sequence_length).to(device)\n",
    "\n",
    "                # Standard training except we pass in y_input and src_mask\n",
    "                pred = model(X, y_input, tgt_mask)\n",
    "\n",
    "                # Permute pred to have batch size first again\n",
    "                pred = pred.permute(1, 2, 0)\n",
    "\n",
    "                # permute y_expected\n",
    "                y_expected = y_expected.permute(1, 0)\n",
    "\n",
    "                loss = loss_fn(pred, y_expected)\n",
    "                total_loss += loss.detach().item()\n",
    "\n",
    "                # update progress\n",
    "                bar.set_postfix(loss=loss.item())\n",
    "                bar.update()\n",
    "                sleep(0.1)\n",
    "\n",
    "    return total_loss / len(dataloader)\n",
    "\n",
    "\n",
    "def fit(model, opt, loss_fn, train_dataloader, val_dataloader, epochs):\n",
    "    \"\"\"\n",
    "    Fit the model\n",
    "    \"\"\"\n",
    "    train_loss_list, validation_loss_list = [], []\n",
    "\n",
    "    print(\"Fitting model...\")\n",
    "\n",
    "    for epoch in range(epochs):\n",
    "        print(f\"---------------- EPOCH {epoch + 1} ----------------\")\n",
    "\n",
    "        train_loss = train(model, opt, loss_fn, train_dataloader)\n",
    "        train_loss_list += [train_loss]\n",
    "\n",
    "        validation_loss = validation(model, loss_fn, val_dataloader)\n",
    "        validation_loss_list += [validation_loss]\n",
    "\n",
    "        print(f\"Training Loss: {train_loss}\")\n",
    "        print(f\"Validation Loss: {validation_loss}\")\n",
    "        print()\n",
    "\n",
    "    return train_loss_list, validation_loss_list\n"
   ]
  },
  {
   "cell_type": "markdown",
   "metadata": {},
   "source": [
    "## Fit the Model\n"
   ]
  },
  {
   "cell_type": "code",
   "execution_count": null,
   "metadata": {},
   "outputs": [
    {
     "name": "stdout",
     "output_type": "stream",
     "text": [
      "Fitting model...\n",
      "---------------- EPOCH 1 ----------------\n"
     ]
    },
    {
     "name": "stderr",
     "output_type": "stream",
     "text": [
      " 29%|███████▉                   | 10/34 [22:33<54:14, 135.59s/batch, loss=0.978]"
     ]
    }
   ],
   "source": [
    "train_loss_list, validation_loss_list = fit(\n",
    "    model, opt, loss_fn, train_dataloader, val_dataloader, EPOCHS\n",
    ")\n"
   ]
  },
  {
   "cell_type": "code",
   "execution_count": null,
   "metadata": {},
   "outputs": [],
   "source": []
  }
 ],
 "metadata": {
  "interpreter": {
   "hash": "94f4b4549c83f05dde00f53bd3bd913a638144854d81a9c8d442170225184b53"
  },
  "kernelspec": {
   "display_name": "Python 3 (ipykernel)",
   "language": "python",
   "name": "python3"
  },
  "language_info": {
   "codemirror_mode": {
    "name": "ipython",
    "version": 3
   },
   "file_extension": ".py",
   "mimetype": "text/x-python",
   "name": "python",
   "nbconvert_exporter": "python",
   "pygments_lexer": "ipython3",
   "version": "3.8.12"
  }
 },
 "nbformat": 4,
 "nbformat_minor": 2
}
